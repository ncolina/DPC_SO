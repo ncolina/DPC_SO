{
 "cells": [
  {
   "cell_type": "code",
   "execution_count": 156,
   "metadata": {
    "collapsed": false
   },
   "outputs": [],
   "source": [
    "import pandas as pd\n",
    "import time\n",
    "import string\n",
    "from functions.capitalization import titlecase\n",
    "so_file='test_input.txt'\n",
    "widths = [4,2,15,10,30,100,4,30,3,7,1,30,30,2,20,2,2,10,9,50,3,30,50]\n",
    "update=pd.read_fwf(so_file,\n",
    "                   header=None, \n",
    "                   widths=widths,\n",
    "                   names=['dir_code','so_type','sonumber','mem_wstd','first_name','last_name','sam_city'\n",
    "                          ,'sam_stname','sam_stsubt','sam_stnmfr','sam_subd','sam_estate','sam_bldname','sam_aptcod','sam_aprmnt'\n",
    "                          ,'list_code','acc_type','old_wstd','so_date','joint_user','regulatory_id','account_no','distribution_code'],\n",
    "                   converters = {'mem_wstd': str, 'sam_stnmfr':str,'account_no':str},\n",
    "                   index_col=None\n",
    "                  )\n",
    "#update.()\n",
    "update = update.fillna('')\n",
    "\n",
    "update.sort_values(by='last_name',inplace=True)\n",
    "update.reset_index(drop=True,inplace=True)\n",
    "update['acc_type']=update['acc_type'].astype('category')\n",
    "update['src']=so_file.split('/')[-1]\n",
    "update['so_rangedate']=time.strftime(\"%Y/%m/%d\")\n",
    "rr=update"
   ]
  },
  {
   "cell_type": "code",
   "execution_count": 157,
   "metadata": {
    "collapsed": false
   },
   "outputs": [],
   "source": [
    "rr_crm=pd.DataFrame()"
   ]
  },
  {
   "cell_type": "code",
   "execution_count": 158,
   "metadata": {
    "collapsed": false
   },
   "outputs": [],
   "source": [
    "rr_crm['Areacode']=rr.mem_wstd.str.slice(0,1)\n",
    "rr_crm['Phone']=rr.mem_wstd.str.slice(-7)\n",
    "rr_crm['name1']=rr.last_name\n",
    "rr_crm['name2']=rr.first_name\n",
    "rr_crm['SAM_BLDNAME']=rr.sam_bldname\n",
    "rr_crm['SAM_STNMFR']=rr.sam_stnmfr\n",
    "rr_crm['SAM_STNAME']=rr.sam_stname\n",
    "rr_crm['SAM_STSUBT']=rr.sam_stsubt\n",
    "rr_crm['sam_estate']=rr.sam_estate\n",
    "rr_crm['City']=rr.distribution_code.str.split('  ',1).str.get(1).apply(lambda x : x.strip())\n",
    "rr_crm['Province']=rr.distribution_code.str.split('  ',1).str.get(0).apply(lambda x : x.strip())\n",
    "rr_crm['class_code']=\"\"\n",
    "rr_crm['class_desc']=\"\"\n",
    "rr_crm.name1 = rr_crm.name1.apply(lambda x: titlecase(x))\n",
    "rr_crm.name2 = rr_crm.name2.apply(lambda x: titlecase(x))\n",
    "rr_crm.SAM_BLDNAME = rr_crm.SAM_BLDNAME.apply(lambda x: titlecase(x))\n",
    "rr_crm.SAM_STNAME = rr_crm.SAM_STNAME.apply(lambda x: titlecase(x))\n",
    "rr_crm.SAM_STSUBT = rr_crm.SAM_STSUBT.apply(lambda x: titlecase(x))\n",
    "rr_crm.sam_estate = rr_crm.sam_estate.apply(lambda x: titlecase(x))\n",
    "rr_crm.City = rr_crm.City.apply(lambda x: titlecase(x))\n",
    "rr_crm.Province = rr_crm.Province.apply(lambda x: titlecase(x))"
   ]
  },
  {
   "cell_type": "code",
   "execution_count": 159,
   "metadata": {
    "collapsed": false
   },
   "outputs": [],
   "source": [
    "import numpy as np\n",
    "def or_call(crm):\n",
    "    index=crm.duplicated(['name1','name2','City','Province','SAM_BLDNAME','SAM_STNAME'])\n",
    "    skip=False\n",
    "    for i in xrange(len(index)):\n",
    "        if index.ix[i] == True:\n",
    "            line=crm.ix[i]\n",
    "            prev_line=crm.ix[i-1]\n",
    "            try:\n",
    "                next_line=crm.ix[i+1]\n",
    "            except:\n",
    "                pass\n",
    "            line['SAM_BLDNAME']=''\n",
    "            line['SAM_STNMFR']=''\n",
    "            line['SAM_STNAME']=''\n",
    "            line['SAM_STSUBT']=''\n",
    "            line['sam_estate']=''\n",
    "            line['Province']=''\n",
    "            line['class_code']=''\n",
    "            line['class_desc']=''\n",
    "            #line['name1']=''\n",
    "            #line['name2']=''\n",
    "            if skip == False:\n",
    "                prev_line['Phone']=str(prev_line.Phone)+'/'+str(line.Phone)\n",
    "                line['Phone']=''\n",
    "\n",
    "                if index.ix[i-1] == False and index.ix[i+1]==True:\n",
    "                    next_line['City']='Or Call:'\n",
    "                try:\n",
    "                    if index.ix[i+1] == True:\n",
    "                        skip =True\n",
    "                    \n",
    "                except:\n",
    "                    pass\n",
    "            else:\n",
    "                skip = False\n",
    "    crm['Phone'].replace('', np.nan, inplace=True)\n",
    "    return  crm[crm.Phone.notnull()]\n",
    "\n",
    "    "
   ]
  },
  {
   "cell_type": "code",
   "execution_count": 160,
   "metadata": {
    "collapsed": false
   },
   "outputs": [
    {
     "ename": "IOError",
     "evalue": "[Errno 2] No such file or directory: 'areacodes'",
     "output_type": "error",
     "traceback": [
      "\u001b[0;31m---------------------------------------------------------------------------\u001b[0m",
      "\u001b[0;31mIOError\u001b[0m                                   Traceback (most recent call last)",
      "\u001b[0;32m<ipython-input-160-7bafda4d158d>\u001b[0m in \u001b[0;36m<module>\u001b[0;34m()\u001b[0m\n\u001b[1;32m      1\u001b[0m \u001b[0;32mimport\u001b[0m \u001b[0mcsv\u001b[0m\u001b[0;34m\u001b[0m\u001b[0m\n\u001b[0;32m----> 2\u001b[0;31m \u001b[0;32mwith\u001b[0m \u001b[0mopen\u001b[0m\u001b[0;34m(\u001b[0m\u001b[0;34m'areacodes'\u001b[0m\u001b[0;34m)\u001b[0m \u001b[0;32mas\u001b[0m \u001b[0mcsvfile\u001b[0m\u001b[0;34m:\u001b[0m\u001b[0;34m\u001b[0m\u001b[0m\n\u001b[0m\u001b[1;32m      3\u001b[0m     \u001b[0mreader\u001b[0m\u001b[0;34m=\u001b[0m \u001b[0mcsv\u001b[0m\u001b[0;34m.\u001b[0m\u001b[0mreader\u001b[0m\u001b[0;34m(\u001b[0m\u001b[0mcsvfile\u001b[0m\u001b[0;34m)\u001b[0m\u001b[0;34m\u001b[0m\u001b[0m\n\u001b[1;32m      4\u001b[0m     \u001b[0mcodes\u001b[0m \u001b[0;34m=\u001b[0m \u001b[0mdict\u001b[0m\u001b[0;34m(\u001b[0m\u001b[0;34m(\u001b[0m\u001b[0mrows\u001b[0m\u001b[0;34m[\u001b[0m\u001b[0;36m0\u001b[0m\u001b[0;34m]\u001b[0m\u001b[0;34m,\u001b[0m\u001b[0mrows\u001b[0m\u001b[0;34m[\u001b[0m\u001b[0;36m1\u001b[0m\u001b[0;34m]\u001b[0m\u001b[0;34m)\u001b[0m \u001b[0;32mfor\u001b[0m \u001b[0mrows\u001b[0m \u001b[0;32min\u001b[0m \u001b[0mreader\u001b[0m\u001b[0;34m)\u001b[0m\u001b[0;34m\u001b[0m\u001b[0m\n",
      "\u001b[0;31mIOError\u001b[0m: [Errno 2] No such file or directory: 'areacodes'"
     ]
    }
   ],
   "source": [
    "import csv \n",
    "with open('areacodes') as csvfile:\n",
    "    reader= csv.reader(csvfile)\n",
    "    codes = dict((rows[0],rows[1]) for rows in reader)\n"
   ]
  },
  {
   "cell_type": "code",
   "execution_count": 161,
   "metadata": {
    "collapsed": false
   },
   "outputs": [
    {
     "data": {
      "text/plain": [
       "'44'"
      ]
     },
     "execution_count": 161,
     "metadata": {},
     "output_type": "execute_result"
    }
   ],
   "source": [
    "codes.get('bulacan')"
   ]
  },
  {
   "cell_type": "code",
   "execution_count": 162,
   "metadata": {
    "collapsed": false
   },
   "outputs": [
    {
     "name": "stdout",
     "output_type": "stream",
     "text": [
      "Areacode                      0\n",
      "Phone                   2360540\n",
      "name1                   Lorenzo\n",
      "name2              Fe  Fenandez\n",
      "SAM_BLDNAME                    \n",
      "SAM_STNMFR                  523\n",
      "SAM_STNAME     Pres S Osmena Sr\n",
      "SAM_STSUBT                   St\n",
      "sam_estate                     \n",
      "City                     Obando\n",
      "Province                Bulacan\n",
      "class_code                     \n",
      "class_desc                     \n",
      "Name: 5, dtype: object\n",
      "Areacode                      0\n",
      "Phone                   2360228\n",
      "name1                    Martin\n",
      "name2          Isagani  de Leon\n",
      "SAM_BLDNAME                    \n",
      "SAM_STNMFR                   46\n",
      "SAM_STNAME             Sto Nino\n",
      "SAM_STSUBT                   St\n",
      "sam_estate                     \n",
      "City                     Obando\n",
      "Province                Bulacan\n",
      "class_code                     \n",
      "class_desc                     \n",
      "Name: 6, dtype: object\n"
     ]
    }
   ],
   "source": [
    "print rr_crm.ix[5]\n",
    "print rr_crm.ix[6]"
   ]
  },
  {
   "cell_type": "code",
   "execution_count": 163,
   "metadata": {
    "collapsed": false
   },
   "outputs": [
    {
     "data": {
      "text/plain": [
       "0     False\n",
       "1     False\n",
       "2     False\n",
       "3      True\n",
       "4     False\n",
       "5     False\n",
       "6     False\n",
       "7     False\n",
       "8      True\n",
       "9      True\n",
       "10    False\n",
       "11    False\n",
       "12    False\n",
       "dtype: bool"
      ]
     },
     "execution_count": 163,
     "metadata": {},
     "output_type": "execute_result"
    }
   ],
   "source": [
    "rr_crm.duplicated('name1')"
   ]
  },
  {
   "cell_type": "code",
   "execution_count": 164,
   "metadata": {
    "collapsed": false
   },
   "outputs": [
    {
     "data": {
      "text/html": [
       "<div>\n",
       "<table border=\"1\" class=\"dataframe\">\n",
       "  <thead>\n",
       "    <tr style=\"text-align: right;\">\n",
       "      <th></th>\n",
       "      <th>Areacode</th>\n",
       "      <th>Phone</th>\n",
       "      <th>name1</th>\n",
       "      <th>name2</th>\n",
       "      <th>SAM_BLDNAME</th>\n",
       "      <th>SAM_STNMFR</th>\n",
       "      <th>SAM_STNAME</th>\n",
       "      <th>SAM_STSUBT</th>\n",
       "      <th>sam_estate</th>\n",
       "      <th>City</th>\n",
       "      <th>Province</th>\n",
       "      <th>class_code</th>\n",
       "      <th>class_desc</th>\n",
       "    </tr>\n",
       "  </thead>\n",
       "  <tbody>\n",
       "    <tr>\n",
       "      <th>0</th>\n",
       "      <td>0</td>\n",
       "      <td>2360409</td>\n",
       "      <td>Cristobal</td>\n",
       "      <td>Arleen  Garcia</td>\n",
       "      <td></td>\n",
       "      <td>45</td>\n",
       "      <td>Tawiran</td>\n",
       "      <td>Rd</td>\n",
       "      <td></td>\n",
       "      <td>Obando</td>\n",
       "      <td>Bulacan</td>\n",
       "      <td></td>\n",
       "      <td></td>\n",
       "    </tr>\n",
       "    <tr>\n",
       "      <th>1</th>\n",
       "      <td>0</td>\n",
       "      <td>2360597</td>\n",
       "      <td>Jocelyn Forge Inc</td>\n",
       "      <td></td>\n",
       "      <td></td>\n",
       "      <td>56</td>\n",
       "      <td>Bagbaguin</td>\n",
       "      <td>Rd</td>\n",
       "      <td></td>\n",
       "      <td>Meycauayan City</td>\n",
       "      <td>Bulacan</td>\n",
       "      <td></td>\n",
       "      <td></td>\n",
       "    </tr>\n",
       "    <tr>\n",
       "      <th>2</th>\n",
       "      <td>0</td>\n",
       "      <td>2919615/2919890</td>\n",
       "      <td>L.G Ramos Trading and Marineservices</td>\n",
       "      <td></td>\n",
       "      <td></td>\n",
       "      <td>25</td>\n",
       "      <td>F Navarette</td>\n",
       "      <td>St</td>\n",
       "      <td></td>\n",
       "      <td>Obando</td>\n",
       "      <td>Bulacan</td>\n",
       "      <td></td>\n",
       "      <td></td>\n",
       "    </tr>\n",
       "    <tr>\n",
       "      <th>4</th>\n",
       "      <td>0</td>\n",
       "      <td>2360493</td>\n",
       "      <td>Laurean</td>\n",
       "      <td>Arriane  Argamosa</td>\n",
       "      <td></td>\n",
       "      <td></td>\n",
       "      <td>Topaz</td>\n",
       "      <td>St</td>\n",
       "      <td>Citation Homes</td>\n",
       "      <td>Meycauayan City</td>\n",
       "      <td>Bulacan</td>\n",
       "      <td></td>\n",
       "      <td></td>\n",
       "    </tr>\n",
       "    <tr>\n",
       "      <th>5</th>\n",
       "      <td>0</td>\n",
       "      <td>2360540</td>\n",
       "      <td>Lorenzo</td>\n",
       "      <td>Fe  Fenandez</td>\n",
       "      <td></td>\n",
       "      <td>523</td>\n",
       "      <td>Pres S Osmena Sr</td>\n",
       "      <td>St</td>\n",
       "      <td></td>\n",
       "      <td>Obando</td>\n",
       "      <td>Bulacan</td>\n",
       "      <td></td>\n",
       "      <td></td>\n",
       "    </tr>\n",
       "    <tr>\n",
       "      <th>6</th>\n",
       "      <td>0</td>\n",
       "      <td>2360228</td>\n",
       "      <td>Martin</td>\n",
       "      <td>Isagani  de Leon</td>\n",
       "      <td></td>\n",
       "      <td>46</td>\n",
       "      <td>Sto Nino</td>\n",
       "      <td>St</td>\n",
       "      <td></td>\n",
       "      <td>Obando</td>\n",
       "      <td>Bulacan</td>\n",
       "      <td></td>\n",
       "      <td></td>\n",
       "    </tr>\n",
       "    <tr>\n",
       "      <th>7</th>\n",
       "      <td>0</td>\n",
       "      <td>2922999/2922911</td>\n",
       "      <td>Obando Police Department</td>\n",
       "      <td></td>\n",
       "      <td>Obando Police Department</td>\n",
       "      <td></td>\n",
       "      <td>J P Rizal</td>\n",
       "      <td>St</td>\n",
       "      <td></td>\n",
       "      <td>Obando</td>\n",
       "      <td>Bulacan</td>\n",
       "      <td></td>\n",
       "      <td></td>\n",
       "    </tr>\n",
       "    <tr>\n",
       "      <th>9</th>\n",
       "      <td>0</td>\n",
       "      <td>2922043</td>\n",
       "      <td>Obando Police Department</td>\n",
       "      <td></td>\n",
       "      <td></td>\n",
       "      <td></td>\n",
       "      <td></td>\n",
       "      <td></td>\n",
       "      <td></td>\n",
       "      <td>Or Call:</td>\n",
       "      <td></td>\n",
       "      <td></td>\n",
       "      <td></td>\n",
       "    </tr>\n",
       "    <tr>\n",
       "      <th>10</th>\n",
       "      <td>0</td>\n",
       "      <td>2922058</td>\n",
       "      <td>Provincial Lying-In Clinic</td>\n",
       "      <td></td>\n",
       "      <td></td>\n",
       "      <td></td>\n",
       "      <td>Provincial</td>\n",
       "      <td>Rd</td>\n",
       "      <td></td>\n",
       "      <td>Obando</td>\n",
       "      <td>Bulacan</td>\n",
       "      <td></td>\n",
       "      <td></td>\n",
       "    </tr>\n",
       "    <tr>\n",
       "      <th>11</th>\n",
       "      <td>0</td>\n",
       "      <td>2824099</td>\n",
       "      <td>Rite Deal Enterprises</td>\n",
       "      <td></td>\n",
       "      <td></td>\n",
       "      <td>34</td>\n",
       "      <td>F Navarette</td>\n",
       "      <td>St</td>\n",
       "      <td></td>\n",
       "      <td>Obando</td>\n",
       "      <td>Bulacan</td>\n",
       "      <td></td>\n",
       "      <td></td>\n",
       "    </tr>\n",
       "    <tr>\n",
       "      <th>12</th>\n",
       "      <td>0</td>\n",
       "      <td>2922033</td>\n",
       "      <td>Rural Bank of San Pascual Incorporated</td>\n",
       "      <td></td>\n",
       "      <td></td>\n",
       "      <td></td>\n",
       "      <td>Paliwas</td>\n",
       "      <td>Rd</td>\n",
       "      <td></td>\n",
       "      <td>Obando</td>\n",
       "      <td>Bulacan</td>\n",
       "      <td></td>\n",
       "      <td></td>\n",
       "    </tr>\n",
       "  </tbody>\n",
       "</table>\n",
       "</div>"
      ],
      "text/plain": [
       "   Areacode            Phone                                   name1  \\\n",
       "0         0          2360409                               Cristobal   \n",
       "1         0          2360597                       Jocelyn Forge Inc   \n",
       "2         0  2919615/2919890    L.G Ramos Trading and Marineservices   \n",
       "4         0          2360493                                 Laurean   \n",
       "5         0          2360540                                 Lorenzo   \n",
       "6         0          2360228                                  Martin   \n",
       "7         0  2922999/2922911                Obando Police Department   \n",
       "9         0          2922043                Obando Police Department   \n",
       "10        0          2922058              Provincial Lying-In Clinic   \n",
       "11        0          2824099                   Rite Deal Enterprises   \n",
       "12        0          2922033  Rural Bank of San Pascual Incorporated   \n",
       "\n",
       "                name2               SAM_BLDNAME SAM_STNMFR        SAM_STNAME  \\\n",
       "0      Arleen  Garcia                                   45           Tawiran   \n",
       "1                                                       56         Bagbaguin   \n",
       "2                                                       25       F Navarette   \n",
       "4   Arriane  Argamosa                                                  Topaz   \n",
       "5        Fe  Fenandez                                  523  Pres S Osmena Sr   \n",
       "6    Isagani  de Leon                                   46          Sto Nino   \n",
       "7                      Obando Police Department                    J P Rizal   \n",
       "9                                                                              \n",
       "10                                                                Provincial   \n",
       "11                                                      34       F Navarette   \n",
       "12                                                                   Paliwas   \n",
       "\n",
       "   SAM_STSUBT      sam_estate             City Province class_code class_desc  \n",
       "0          Rd                           Obando  Bulacan                        \n",
       "1          Rd                  Meycauayan City  Bulacan                        \n",
       "2          St                           Obando  Bulacan                        \n",
       "4          St  Citation Homes  Meycauayan City  Bulacan                        \n",
       "5          St                           Obando  Bulacan                        \n",
       "6          St                           Obando  Bulacan                        \n",
       "7          St                           Obando  Bulacan                        \n",
       "9                                     Or Call:                                 \n",
       "10         Rd                           Obando  Bulacan                        \n",
       "11         St                           Obando  Bulacan                        \n",
       "12         Rd                           Obando  Bulacan                        "
      ]
     },
     "execution_count": 164,
     "metadata": {},
     "output_type": "execute_result"
    }
   ],
   "source": [
    "def or_call(crm):\n",
    "    index=crm.duplicated(['name1','name2','City','Province','SAM_BLDNAME','SAM_STNAME'])\n",
    "    skip=False\n",
    "    for i in xrange(len(index)):\n",
    "        if index.iloc[i] == True:\n",
    "            line=crm.ix[i]\n",
    "            prev_line=crm.ix[i-1]\n",
    "            try:\n",
    "                next_line=crm.ix[i+1]\n",
    "            except:\n",
    "                pass\n",
    "            line['SAM_BLDNAME']=''\n",
    "            line['SAM_STNMFR']=''\n",
    "            line['SAM_STNAME']=''\n",
    "            line['SAM_STSUBT']=''\n",
    "            line['sam_estate']=''\n",
    "            line['Province']=''\n",
    "            line['class_code']=''\n",
    "            line['class_desc']=''\n",
    "            #line['name1']=''\n",
    "            #line['name2']=''\n",
    "            if skip == False:\n",
    "                prev_line['Phone']=str(prev_line.Phone)+'/'+str(line.Phone)\n",
    "                line['Phone']=np.nan\n",
    "\n",
    "                if index.ix[i-1] == False and index.ix[i+1]==True:\n",
    "                    next_line['City']='Or Call:'\n",
    "                try:\n",
    "                    if index.ix[i+1] == True:\n",
    "                        skip =True\n",
    "                except:\n",
    "                    pass\n",
    "            else:\n",
    "                skip = False\n",
    "    #crm['Phone'].replace('', np.nan, inplace=True)\n",
    "    return  crm[crm.Phone.notnull()]\n",
    "or_call(rr_crm)"
   ]
  },
  {
   "cell_type": "code",
   "execution_count": 119,
   "metadata": {
    "collapsed": false
   },
   "outputs": [
    {
     "ename": "IOError",
     "evalue": "[Errno 2] No such file or directory: 'small_words'",
     "output_type": "error",
     "traceback": [
      "\u001b[0;31m---------------------------------------------------------------------------\u001b[0m",
      "\u001b[0;31mIOError\u001b[0m                                   Traceback (most recent call last)",
      "\u001b[0;32m<ipython-input-119-bd04f546e239>\u001b[0m in \u001b[0;36m<module>\u001b[0;34m()\u001b[0m\n\u001b[0;32m----> 1\u001b[0;31m \u001b[0mstr\u001b[0m\u001b[0;34m(\u001b[0m\u001b[0mopen\u001b[0m\u001b[0;34m(\u001b[0m\u001b[0;34m'small_words'\u001b[0m\u001b[0;34m)\u001b[0m\u001b[0;34m.\u001b[0m\u001b[0mread\u001b[0m\u001b[0;34m(\u001b[0m\u001b[0;34m)\u001b[0m\u001b[0;34m)\u001b[0m\u001b[0;34m\u001b[0m\u001b[0m\n\u001b[0m",
      "\u001b[0;31mIOError\u001b[0m: [Errno 2] No such file or directory: 'small_words'"
     ]
    }
   ],
   "source": [
    "str(open('small_words').read())"
   ]
  },
  {
   "cell_type": "code",
   "execution_count": 120,
   "metadata": {
    "collapsed": false
   },
   "outputs": [
    {
     "ename": "IOError",
     "evalue": "[Errno 2] No such file or directory: 'small_words'",
     "output_type": "error",
     "traceback": [
      "\u001b[0;31m---------------------------------------------------------------------------\u001b[0m",
      "\u001b[0;31mIOError\u001b[0m                                   Traceback (most recent call last)",
      "\u001b[0;32m<ipython-input-120-0b62cc8e2088>\u001b[0m in \u001b[0;36m<module>\u001b[0;34m()\u001b[0m\n\u001b[0;32m----> 1\u001b[0;31m \u001b[0mopen\u001b[0m\u001b[0;34m(\u001b[0m\u001b[0;34m'small_words'\u001b[0m\u001b[0;34m)\u001b[0m\u001b[0;34m.\u001b[0m\u001b[0mread\u001b[0m\u001b[0;34m(\u001b[0m\u001b[0;34m)\u001b[0m\u001b[0;34m.\u001b[0m\u001b[0mrstrip\u001b[0m\u001b[0;34m(\u001b[0m\u001b[0;34m'\\n'\u001b[0m\u001b[0;34m)\u001b[0m\u001b[0;34m\u001b[0m\u001b[0m\n\u001b[0m",
      "\u001b[0;31mIOError\u001b[0m: [Errno 2] No such file or directory: 'small_words'"
     ]
    }
   ],
   "source": [
    "open('small_words').read().rstrip('\\n')\n"
   ]
  },
  {
   "cell_type": "code",
   "execution_count": 121,
   "metadata": {
    "collapsed": false
   },
   "outputs": [],
   "source": [
    "import functions.interface_functions"
   ]
  },
  {
   "cell_type": "code",
   "execution_count": 122,
   "metadata": {
    "collapsed": false
   },
   "outputs": [],
   "source": [
    "import glob\n",
    "import os\n",
    "newest = min(glob.iglob('database_backups/*.hdf5'), key=os.path.getctime)\n"
   ]
  },
  {
   "cell_type": "code",
   "execution_count": 62,
   "metadata": {
    "collapsed": false
   },
   "outputs": [
    {
     "data": {
      "text/plain": [
       "'database_backups/database-2016-07-21-02-02-20.hdf5'"
      ]
     },
     "execution_count": 62,
     "metadata": {},
     "output_type": "execute_result"
    }
   ],
   "source": [
    "newest"
   ]
  },
  {
   "cell_type": "code",
   "execution_count": 63,
   "metadata": {
    "collapsed": false
   },
   "outputs": [
    {
     "data": {
      "text/plain": [
       "0                                 OBANDO\n",
       "1                        MEYCAUAYAN CITY\n",
       "2                                 OBANDO\n",
       "3                                 OBANDO\n",
       "4                        MEYCAUAYAN CITY\n",
       "5                                 OBANDO\n",
       "6                                 OBANDO\n",
       "7                                 OBANDO\n",
       "8                                 OBANDO\n",
       "9                                 OBANDO\n",
       "10                                OBANDO\n",
       "11                                OBANDO\n",
       "12                                OBANDO\n",
       "13                                OBANDO\n",
       "14                                OBANDO\n",
       "Name: distribution_code, dtype: object"
      ]
     },
     "execution_count": 63,
     "metadata": {},
     "output_type": "execute_result"
    }
   ],
   "source": [
    "rr.distribution_code.str.split('    ',1).str.get(1)"
   ]
  },
  {
   "cell_type": "code",
   "execution_count": 66,
   "metadata": {
    "collapsed": false
   },
   "outputs": [],
   "source": [
    "index=rr_crm.duplicated(['name1','name2','City','Province','SAM_BLDNAME','SAM_STNAME'])\n"
   ]
  },
  {
   "cell_type": "code",
   "execution_count": 69,
   "metadata": {
    "collapsed": false
   },
   "outputs": [
    {
     "data": {
      "text/plain": [
       "[0, 1, 2, 3, 4, 5, 6, 7, 8, 9, 10, 11, 12, 13, 14]"
      ]
     },
     "execution_count": 69,
     "metadata": {},
     "output_type": "execute_result"
    }
   ],
   "source": [
    "range(len(index))"
   ]
  },
  {
   "cell_type": "code",
   "execution_count": 74,
   "metadata": {
    "collapsed": false
   },
   "outputs": [
    {
     "data": {
      "text/plain": [
       "False"
      ]
     },
     "execution_count": 74,
     "metadata": {},
     "output_type": "execute_result"
    }
   ],
   "source": [
    "index[1]"
   ]
  },
  {
   "cell_type": "code",
   "execution_count": 72,
   "metadata": {
    "collapsed": true
   },
   "outputs": [],
   "source": [
    "index=rr_crm.duplicated(['name1','name2','City','Province','SAM_BLDNAME','SAM_STNAME'])\n"
   ]
  },
  {
   "cell_type": "code",
   "execution_count": 80,
   "metadata": {
    "collapsed": false
   },
   "outputs": [
    {
     "data": {
      "text/plain": [
       "['dfd', 'f ', 'df', 'df', '        ', 'df', 'd']"
      ]
     },
     "execution_count": 80,
     "metadata": {},
     "output_type": "execute_result"
    }
   ],
   "source": [
    "'dfdsf sdfsdfs        sdfsd'.split('s')"
   ]
  },
  {
   "cell_type": "code",
   "execution_count": 155,
   "metadata": {
    "collapsed": false
   },
   "outputs": [
    {
     "data": {
      "text/html": [
       "<div>\n",
       "<table border=\"1\" class=\"dataframe\">\n",
       "  <thead>\n",
       "    <tr style=\"text-align: right;\">\n",
       "      <th></th>\n",
       "      <th>dir_code</th>\n",
       "      <th>so_type</th>\n",
       "      <th>sonumber</th>\n",
       "      <th>mem_wstd</th>\n",
       "      <th>first_name</th>\n",
       "      <th>last_name</th>\n",
       "      <th>sam_city</th>\n",
       "      <th>sam_stname</th>\n",
       "      <th>sam_stsubt</th>\n",
       "      <th>sam_stnmfr</th>\n",
       "      <th>...</th>\n",
       "      <th>list_code</th>\n",
       "      <th>acc_type</th>\n",
       "      <th>old_wstd</th>\n",
       "      <th>so_date</th>\n",
       "      <th>joint_user</th>\n",
       "      <th>regulatory_id</th>\n",
       "      <th>account_no</th>\n",
       "      <th>distribution_code</th>\n",
       "      <th>src</th>\n",
       "      <th>so_rangedate</th>\n",
       "    </tr>\n",
       "  </thead>\n",
       "  <tbody>\n",
       "    <tr>\n",
       "      <th>0</th>\n",
       "      <td>BL</td>\n",
       "      <td></td>\n",
       "      <td></td>\n",
       "      <td>0022360409</td>\n",
       "      <td>ARLEEN  GARCIA</td>\n",
       "      <td>CRISTOBAL</td>\n",
       "      <td>OBA</td>\n",
       "      <td>TAWIRAN</td>\n",
       "      <td>RD</td>\n",
       "      <td>45</td>\n",
       "      <td>...</td>\n",
       "      <td>PB</td>\n",
       "      <td>RR</td>\n",
       "      <td></td>\n",
       "      <td></td>\n",
       "      <td></td>\n",
       "      <td>PLD</td>\n",
       "      <td>0241336611</td>\n",
       "      <td>BULACAN                       OBANDO</td>\n",
       "      <td>test_input.txt</td>\n",
       "      <td>2016/07/21</td>\n",
       "    </tr>\n",
       "    <tr>\n",
       "      <th>1</th>\n",
       "      <td>BL</td>\n",
       "      <td></td>\n",
       "      <td></td>\n",
       "      <td>0022360597</td>\n",
       "      <td></td>\n",
       "      <td>JOCELYN FORGE INC</td>\n",
       "      <td>MEY0</td>\n",
       "      <td>BAGBAGUIN</td>\n",
       "      <td>RD</td>\n",
       "      <td>56</td>\n",
       "      <td>...</td>\n",
       "      <td>PB</td>\n",
       "      <td>BR</td>\n",
       "      <td></td>\n",
       "      <td></td>\n",
       "      <td></td>\n",
       "      <td>PLD</td>\n",
       "      <td>0161375209</td>\n",
       "      <td>BULACAN                       MEYCAUAYAN CITY</td>\n",
       "      <td>test_input.txt</td>\n",
       "      <td>2016/07/21</td>\n",
       "    </tr>\n",
       "    <tr>\n",
       "      <th>2</th>\n",
       "      <td>BL</td>\n",
       "      <td></td>\n",
       "      <td></td>\n",
       "      <td>0022919615</td>\n",
       "      <td></td>\n",
       "      <td>L.G RAMOS TRADING AND MARINESERVICES</td>\n",
       "      <td>OBA</td>\n",
       "      <td>F NAVARETTE</td>\n",
       "      <td>ST</td>\n",
       "      <td>25</td>\n",
       "      <td>...</td>\n",
       "      <td>PB</td>\n",
       "      <td>BR</td>\n",
       "      <td></td>\n",
       "      <td></td>\n",
       "      <td></td>\n",
       "      <td>PLD</td>\n",
       "      <td>0212837784</td>\n",
       "      <td>BULACAN                       OBANDO</td>\n",
       "      <td>test_input.txt</td>\n",
       "      <td>2016/07/21</td>\n",
       "    </tr>\n",
       "    <tr>\n",
       "      <th>3</th>\n",
       "      <td>BL</td>\n",
       "      <td></td>\n",
       "      <td></td>\n",
       "      <td>0022919890</td>\n",
       "      <td></td>\n",
       "      <td>L.G RAMOS TRADING AND MARINESERVICES</td>\n",
       "      <td>OBA</td>\n",
       "      <td>F NAVARETTE</td>\n",
       "      <td>ST</td>\n",
       "      <td>25</td>\n",
       "      <td>...</td>\n",
       "      <td>PB</td>\n",
       "      <td>BR</td>\n",
       "      <td></td>\n",
       "      <td></td>\n",
       "      <td></td>\n",
       "      <td>PLD</td>\n",
       "      <td>0212837784</td>\n",
       "      <td>BULACAN                       OBANDO</td>\n",
       "      <td>test_input.txt</td>\n",
       "      <td>2016/07/21</td>\n",
       "    </tr>\n",
       "    <tr>\n",
       "      <th>4</th>\n",
       "      <td>BL</td>\n",
       "      <td></td>\n",
       "      <td></td>\n",
       "      <td>0022360493</td>\n",
       "      <td>ARRIANE  ARGAMOSA</td>\n",
       "      <td>LAUREAN</td>\n",
       "      <td>MEY0</td>\n",
       "      <td>TOPAZ</td>\n",
       "      <td>ST</td>\n",
       "      <td></td>\n",
       "      <td>...</td>\n",
       "      <td>PB</td>\n",
       "      <td>RR</td>\n",
       "      <td></td>\n",
       "      <td></td>\n",
       "      <td></td>\n",
       "      <td>PLD</td>\n",
       "      <td>0217398665</td>\n",
       "      <td>BULACAN                       MEYCAUAYAN CITY</td>\n",
       "      <td>test_input.txt</td>\n",
       "      <td>2016/07/21</td>\n",
       "    </tr>\n",
       "    <tr>\n",
       "      <th>5</th>\n",
       "      <td>BL</td>\n",
       "      <td></td>\n",
       "      <td></td>\n",
       "      <td>0022360540</td>\n",
       "      <td>FE  FENANDEZ</td>\n",
       "      <td>LORENZO</td>\n",
       "      <td>OBA</td>\n",
       "      <td>PRES S OSMENA SR</td>\n",
       "      <td>ST</td>\n",
       "      <td>523</td>\n",
       "      <td>...</td>\n",
       "      <td>PB</td>\n",
       "      <td>RR</td>\n",
       "      <td></td>\n",
       "      <td></td>\n",
       "      <td></td>\n",
       "      <td>PLD</td>\n",
       "      <td>0244072801</td>\n",
       "      <td>BULACAN                       OBANDO</td>\n",
       "      <td>test_input.txt</td>\n",
       "      <td>2016/07/21</td>\n",
       "    </tr>\n",
       "    <tr>\n",
       "      <th>6</th>\n",
       "      <td>BL</td>\n",
       "      <td></td>\n",
       "      <td></td>\n",
       "      <td>0022360228</td>\n",
       "      <td>ISAGANI  DE LEON</td>\n",
       "      <td>MARTIN</td>\n",
       "      <td>OBA</td>\n",
       "      <td>STO NINO</td>\n",
       "      <td>ST</td>\n",
       "      <td>46</td>\n",
       "      <td>...</td>\n",
       "      <td>PB</td>\n",
       "      <td>RR</td>\n",
       "      <td></td>\n",
       "      <td></td>\n",
       "      <td></td>\n",
       "      <td>PLD</td>\n",
       "      <td>0217426138</td>\n",
       "      <td>BULACAN                       OBANDO</td>\n",
       "      <td>test_input.txt</td>\n",
       "      <td>2016/07/21</td>\n",
       "    </tr>\n",
       "    <tr>\n",
       "      <th>7</th>\n",
       "      <td>BL</td>\n",
       "      <td></td>\n",
       "      <td></td>\n",
       "      <td>0022922043</td>\n",
       "      <td></td>\n",
       "      <td>OBANDO POLICE DEPARTMENT</td>\n",
       "      <td>OBA</td>\n",
       "      <td>J P RIZAL</td>\n",
       "      <td>ST</td>\n",
       "      <td></td>\n",
       "      <td>...</td>\n",
       "      <td>PB</td>\n",
       "      <td>GO</td>\n",
       "      <td></td>\n",
       "      <td></td>\n",
       "      <td></td>\n",
       "      <td>PLD</td>\n",
       "      <td>0009169555</td>\n",
       "      <td>BULACAN                       OBANDO</td>\n",
       "      <td>test_input.txt</td>\n",
       "      <td>2016/07/21</td>\n",
       "    </tr>\n",
       "    <tr>\n",
       "      <th>8</th>\n",
       "      <td>BL</td>\n",
       "      <td></td>\n",
       "      <td></td>\n",
       "      <td>0022922058</td>\n",
       "      <td></td>\n",
       "      <td>PROVINCIAL LYING-IN CLINIC</td>\n",
       "      <td>OBA</td>\n",
       "      <td>PROVINCIAL</td>\n",
       "      <td>RD</td>\n",
       "      <td></td>\n",
       "      <td>...</td>\n",
       "      <td>PB</td>\n",
       "      <td>GO</td>\n",
       "      <td></td>\n",
       "      <td></td>\n",
       "      <td></td>\n",
       "      <td>PLD</td>\n",
       "      <td>0001347225</td>\n",
       "      <td>BULACAN                       OBANDO</td>\n",
       "      <td>test_input.txt</td>\n",
       "      <td>2016/07/21</td>\n",
       "    </tr>\n",
       "    <tr>\n",
       "      <th>9</th>\n",
       "      <td>BL</td>\n",
       "      <td></td>\n",
       "      <td></td>\n",
       "      <td>0022824099</td>\n",
       "      <td></td>\n",
       "      <td>RITE DEAL ENTERPRISES</td>\n",
       "      <td>OBA</td>\n",
       "      <td>F NAVARETTE</td>\n",
       "      <td>ST</td>\n",
       "      <td>34</td>\n",
       "      <td>...</td>\n",
       "      <td>PB</td>\n",
       "      <td>BR</td>\n",
       "      <td></td>\n",
       "      <td></td>\n",
       "      <td></td>\n",
       "      <td>PLD</td>\n",
       "      <td>0003633497</td>\n",
       "      <td>BULACAN                       OBANDO</td>\n",
       "      <td>test_input.txt</td>\n",
       "      <td>2016/07/21</td>\n",
       "    </tr>\n",
       "    <tr>\n",
       "      <th>10</th>\n",
       "      <td>BL</td>\n",
       "      <td></td>\n",
       "      <td></td>\n",
       "      <td>0022922033</td>\n",
       "      <td></td>\n",
       "      <td>RURAL BANK OF SAN PASCUAL INCORPORATED</td>\n",
       "      <td>OBA</td>\n",
       "      <td>PALIWAS</td>\n",
       "      <td>RD</td>\n",
       "      <td></td>\n",
       "      <td>...</td>\n",
       "      <td>PB</td>\n",
       "      <td>BR</td>\n",
       "      <td></td>\n",
       "      <td></td>\n",
       "      <td></td>\n",
       "      <td>PLD</td>\n",
       "      <td>0009169490</td>\n",
       "      <td>BULACAN                       OBANDO</td>\n",
       "      <td>test_input.txt</td>\n",
       "      <td>2016/07/21</td>\n",
       "    </tr>\n",
       "  </tbody>\n",
       "</table>\n",
       "<p>11 rows × 25 columns</p>\n",
       "</div>"
      ],
      "text/plain": [
       "   dir_code so_type sonumber    mem_wstd         first_name  \\\n",
       "0        BL                   0022360409     ARLEEN  GARCIA   \n",
       "1        BL                   0022360597                      \n",
       "2        BL                   0022919615                      \n",
       "3        BL                   0022919890                      \n",
       "4        BL                   0022360493  ARRIANE  ARGAMOSA   \n",
       "5        BL                   0022360540       FE  FENANDEZ   \n",
       "6        BL                   0022360228   ISAGANI  DE LEON   \n",
       "7        BL                   0022922043                      \n",
       "8        BL                   0022922058                      \n",
       "9        BL                   0022824099                      \n",
       "10       BL                   0022922033                      \n",
       "\n",
       "                                 last_name sam_city        sam_stname  \\\n",
       "0                                CRISTOBAL      OBA           TAWIRAN   \n",
       "1                        JOCELYN FORGE INC     MEY0         BAGBAGUIN   \n",
       "2     L.G RAMOS TRADING AND MARINESERVICES      OBA       F NAVARETTE   \n",
       "3     L.G RAMOS TRADING AND MARINESERVICES      OBA       F NAVARETTE   \n",
       "4                                  LAUREAN     MEY0             TOPAZ   \n",
       "5                                  LORENZO      OBA  PRES S OSMENA SR   \n",
       "6                                   MARTIN      OBA          STO NINO   \n",
       "7                 OBANDO POLICE DEPARTMENT      OBA         J P RIZAL   \n",
       "8               PROVINCIAL LYING-IN CLINIC      OBA        PROVINCIAL   \n",
       "9                    RITE DEAL ENTERPRISES      OBA       F NAVARETTE   \n",
       "10  RURAL BANK OF SAN PASCUAL INCORPORATED      OBA           PALIWAS   \n",
       "\n",
       "   sam_stsubt sam_stnmfr     ...      list_code acc_type old_wstd so_date  \\\n",
       "0          RD         45     ...             PB       RR                    \n",
       "1          RD         56     ...             PB       BR                    \n",
       "2          ST         25     ...             PB       BR                    \n",
       "3          ST         25     ...             PB       BR                    \n",
       "4          ST                ...             PB       RR                    \n",
       "5          ST        523     ...             PB       RR                    \n",
       "6          ST         46     ...             PB       RR                    \n",
       "7          ST                ...             PB       GO                    \n",
       "8          RD                ...             PB       GO                    \n",
       "9          ST         34     ...             PB       BR                    \n",
       "10         RD                ...             PB       BR                    \n",
       "\n",
       "   joint_user regulatory_id  account_no  \\\n",
       "0                       PLD  0241336611   \n",
       "1                       PLD  0161375209   \n",
       "2                       PLD  0212837784   \n",
       "3                       PLD  0212837784   \n",
       "4                       PLD  0217398665   \n",
       "5                       PLD  0244072801   \n",
       "6                       PLD  0217426138   \n",
       "7                       PLD  0009169555   \n",
       "8                       PLD  0001347225   \n",
       "9                       PLD  0003633497   \n",
       "10                      PLD  0009169490   \n",
       "\n",
       "                                distribution_code             src so_rangedate  \n",
       "0            BULACAN                       OBANDO  test_input.txt   2016/07/21  \n",
       "1   BULACAN                       MEYCAUAYAN CITY  test_input.txt   2016/07/21  \n",
       "2            BULACAN                       OBANDO  test_input.txt   2016/07/21  \n",
       "3            BULACAN                       OBANDO  test_input.txt   2016/07/21  \n",
       "4   BULACAN                       MEYCAUAYAN CITY  test_input.txt   2016/07/21  \n",
       "5            BULACAN                       OBANDO  test_input.txt   2016/07/21  \n",
       "6            BULACAN                       OBANDO  test_input.txt   2016/07/21  \n",
       "7            BULACAN                       OBANDO  test_input.txt   2016/07/21  \n",
       "8            BULACAN                       OBANDO  test_input.txt   2016/07/21  \n",
       "9            BULACAN                       OBANDO  test_input.txt   2016/07/21  \n",
       "10           BULACAN                       OBANDO  test_input.txt   2016/07/21  \n",
       "\n",
       "[11 rows x 25 columns]"
      ]
     },
     "execution_count": 155,
     "metadata": {},
     "output_type": "execute_result"
    }
   ],
   "source": [
    "rr"
   ]
  },
  {
   "cell_type": "code",
   "execution_count": 166,
   "metadata": {
    "collapsed": false
   },
   "outputs": [
    {
     "data": {
      "text/plain": [
       "8"
      ]
     },
     "execution_count": 166,
     "metadata": {},
     "output_type": "execute_result"
    }
   ],
   "source": [
    "x=8\n",
    "x=x or 5\n",
    "x"
   ]
  },
  {
   "cell_type": "code",
   "execution_count": 167,
   "metadata": {
    "collapsed": false
   },
   "outputs": [
    {
     "data": {
      "text/plain": [
       "'ncolina'"
      ]
     },
     "execution_count": 167,
     "metadata": {},
     "output_type": "execute_result"
    }
   ],
   "source": [
    "os.getlogin()"
   ]
  },
  {
   "cell_type": "code",
   "execution_count": 19,
   "metadata": {
    "collapsed": false
   },
   "outputs": [],
   "source": [
    "import csv\n",
    "reader = csv.reader(open('config/input_format'))#,delimiter=',',quotechar='')\n",
    "titles=reader.next()\n",
    "widths=reader.next()"
   ]
  },
  {
   "cell_type": "code",
   "execution_count": 21,
   "metadata": {
    "collapsed": false
   },
   "outputs": [
    {
     "data": {
      "text/plain": [
       "\"'dir_code'\""
      ]
     },
     "execution_count": 21,
     "metadata": {},
     "output_type": "execute_result"
    }
   ],
   "source": [
    "titles[0]"
   ]
  },
  {
   "cell_type": "code",
   "execution_count": 31,
   "metadata": {
    "collapsed": false
   },
   "outputs": [
    {
     "ename": "ValueError",
     "evalue": "could not convert string to float: 'dir_code'",
     "output_type": "error",
     "traceback": [
      "\u001b[0;31m---------------------------------------------------------------------------\u001b[0m",
      "\u001b[0;31mValueError\u001b[0m                                Traceback (most recent call last)",
      "\u001b[0;32m<ipython-input-31-9d1c90961101>\u001b[0m in \u001b[0;36m<module>\u001b[0;34m()\u001b[0m\n\u001b[1;32m      1\u001b[0m \u001b[0mreader\u001b[0m\u001b[0;34m=\u001b[0m \u001b[0mcsv\u001b[0m\u001b[0;34m.\u001b[0m\u001b[0mreader\u001b[0m\u001b[0;34m(\u001b[0m\u001b[0mopen\u001b[0m\u001b[0;34m(\u001b[0m\u001b[0;34m'config/input_format'\u001b[0m\u001b[0;34m)\u001b[0m\u001b[0;34m,\u001b[0m\u001b[0mquoting\u001b[0m\u001b[0;34m=\u001b[0m\u001b[0mcsv\u001b[0m\u001b[0;34m.\u001b[0m\u001b[0mQUOTE_NONNUMERIC\u001b[0m\u001b[0;34m)\u001b[0m\u001b[0;34m\u001b[0m\u001b[0m\n\u001b[1;32m      2\u001b[0m \u001b[0mlines\u001b[0m\u001b[0;34m=\u001b[0m\u001b[0;34m[\u001b[0m\u001b[0;34m]\u001b[0m\u001b[0;34m\u001b[0m\u001b[0m\n\u001b[0;32m----> 3\u001b[0;31m \u001b[0;32mfor\u001b[0m \u001b[0mrow\u001b[0m \u001b[0;32min\u001b[0m \u001b[0mreader\u001b[0m\u001b[0;34m:\u001b[0m\u001b[0;34m\u001b[0m\u001b[0m\n\u001b[0m\u001b[1;32m      4\u001b[0m     \u001b[0;32mprint\u001b[0m \u001b[0mlist\u001b[0m\u001b[0;34m(\u001b[0m\u001b[0mrow\u001b[0m\u001b[0;34m)\u001b[0m\u001b[0;34m\u001b[0m\u001b[0m\n\u001b[1;32m      5\u001b[0m \u001b[0mnames\u001b[0m\u001b[0;34m=\u001b[0m\u001b[0mlines\u001b[0m\u001b[0;34m[\u001b[0m\u001b[0;36m0\u001b[0m\u001b[0;34m]\u001b[0m\u001b[0;34m\u001b[0m\u001b[0m\n",
      "\u001b[0;31mValueError\u001b[0m: could not convert string to float: 'dir_code'"
     ]
    }
   ],
   "source": [
    "reader= csv.reader(open('config/input_format'),quoting=csv.QUOTE_NONNUMERIC)\n",
    "lines=[]\n",
    "for row in reader:\n",
    "    print list(row)\n",
    "names=lines[0]\n",
    "widths=lines[1]"
   ]
  },
  {
   "cell_type": "code",
   "execution_count": 47,
   "metadata": {
    "collapsed": false
   },
   "outputs": [],
   "source": [
    "import ConfigParser\n",
    "Config = ConfigParser.ConfigParser()\n",
    "Config.read(\"config/input_format\")\n",
    "def ConfigSectionMap(section):\n",
    "    dict1 = {}\n",
    "    options = Config.options(section)\n",
    "    for option in options:\n",
    "        try:\n",
    "            dict1[option] = Config.get(section, option)\n",
    "            if dict1[option] == -1:\n",
    "                DebugPrint(\"skip: %s\" % option)\n",
    "        except:\n",
    "            print(\"exception on %s!\" % option)\n",
    "            dict1[option] = None\n",
    "    return dict1"
   ]
  },
  {
   "cell_type": "code",
   "execution_count": 50,
   "metadata": {
    "collapsed": false
   },
   "outputs": [
    {
     "data": {
      "text/plain": [
       "['last_name',\n",
       " 'sam_aprmnt',\n",
       " 'sam_stname',\n",
       " 'sam_aptcod',\n",
       " 'sonumber',\n",
       " 'regulatory_id',\n",
       " 'first_name',\n",
       " 'distribution_code',\n",
       " 'sam_stsubt',\n",
       " 'old_wstd',\n",
       " 'sam_subd',\n",
       " 'mem_wstd',\n",
       " 'account_no',\n",
       " 'so_type',\n",
       " 'sam_stnmfr',\n",
       " 'list_code',\n",
       " 'joint_user',\n",
       " 'so_date',\n",
       " 'acc_type',\n",
       " 'sam_bldname',\n",
       " 'dir_code',\n",
       " 'sam_estate',\n",
       " 'sam_city']"
      ]
     },
     "execution_count": 50,
     "metadata": {},
     "output_type": "execute_result"
    }
   ],
   "source": [
    "ConfigSectionMap('input_format').keys()"
   ]
  },
  {
   "cell_type": "code",
   "execution_count": 49,
   "metadata": {
    "collapsed": false
   },
   "outputs": [
    {
     "data": {
      "text/plain": [
       "[100,\n",
       " 20,\n",
       " 30,\n",
       " 2,\n",
       " 15,\n",
       " 3,\n",
       " 30,\n",
       " 50,\n",
       " 3,\n",
       " 10,\n",
       " 1,\n",
       " 10,\n",
       " 30,\n",
       " 2,\n",
       " 7,\n",
       " 2,\n",
       " 50,\n",
       " 9,\n",
       " 2,\n",
       " 30,\n",
       " 4,\n",
       " 30,\n",
       " 4]"
      ]
     },
     "execution_count": 49,
     "metadata": {},
     "output_type": "execute_result"
    }
   ],
   "source": [
    "[int(x) for x in ConfigSectionMap('input_format').values()]\n",
    "    "
   ]
  },
  {
   "cell_type": "code",
   "execution_count": null,
   "metadata": {
    "collapsed": true
   },
   "outputs": [],
   "source": []
  }
 ],
 "metadata": {
  "kernelspec": {
   "display_name": "Python 2",
   "language": "python",
   "name": "python2"
  },
  "language_info": {
   "codemirror_mode": {
    "name": "ipython",
    "version": 2
   },
   "file_extension": ".py",
   "mimetype": "text/x-python",
   "name": "python",
   "nbconvert_exporter": "python",
   "pygments_lexer": "ipython2",
   "version": "2.7.11"
  }
 },
 "nbformat": 4,
 "nbformat_minor": 0
}
