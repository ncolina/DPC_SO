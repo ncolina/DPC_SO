{
 "cells": [
  {
   "cell_type": "code",
   "execution_count": 111,
   "metadata": {
    "collapsed": false
   },
   "outputs": [],
   "source": [
    "import pandas as pd\n",
    "import time\n",
    "import string\n",
    "from functions.capitalization import titlecase\n",
    "so_file='fwso/sample txtfile.txt'\n",
    "widths = [4,2,15,10,30,100,4,30,3,7,1,30,30,2,20,2,2,10,9,50,3,30,50]\n",
    "update=pd.read_fwf(so_file,\n",
    "                   header=None, \n",
    "                   widths=widths,\n",
    "                   names=['dir_code','so_type','sonumber','mem_wstd','first_name','last_name','sam_city'\n",
    "                          ,'sam_stname','sam_stsubt','sam_stnmfr','sam_subd','sam_estate','sam_bldname','sam_aptcod','sam_aprmnt'\n",
    "                          ,'list_code','acc_type','old_wstd','so_date','joint_user','regulatory_id','account_no','distribution_code'],\n",
    "                   converters = {'mem_wstd': str, 'sam_stnmfr':str,'account_no':str},\n",
    "                   index_col=None\n",
    "                  )\n",
    "#update.()\n",
    "update = update.fillna('')\n",
    "\n",
    "update.sort_values(by='last_name',inplace=True)\n",
    "update.reset_index(drop=True,inplace=True)\n",
    "update['acc_type']=update['acc_type'].astype('category')\n",
    "update['src']=so_file\n",
    "update['so_rangedate']=time.strftime(\"%Y/%m/%d\")\n",
    "rr=update"
   ]
  },
  {
   "cell_type": "code",
   "execution_count": 112,
   "metadata": {
    "collapsed": false
   },
   "outputs": [],
   "source": [
    "rr_crm=pd.DataFrame()"
   ]
  },
  {
   "cell_type": "code",
   "execution_count": 113,
   "metadata": {
    "collapsed": false
   },
   "outputs": [],
   "source": [
    "rr_crm['Areacode']=rr.mem_wstd.str.slice(0,1)\n",
    "rr_crm['Phone']=rr.mem_wstd.str.slice(-7)\n",
    "rr_crm['name1']=rr.last_name\n",
    "rr_crm['name2']=rr.first_name\n",
    "rr_crm['SAM_BLDNAME']=rr.sam_bldname\n",
    "rr_crm['SAM_STNMFR']=rr.sam_stnmfr\n",
    "rr_crm['SAM_STNAME']=rr.sam_stname\n",
    "rr_crm['SAM_STSUBT']=rr.sam_stsubt\n",
    "rr_crm['sam_estate']=rr.sam_estate\n",
    "rr_crm['City']=rr.distribution_code.str.split('  ',1).str.get(1).apply(lambda x : x.strip())\n",
    "rr_crm['Province']=rr.distribution_code.str.split('  ',1).str.get(0).apply(lambda x : x.strip())\n",
    "rr_crm['class_code']=\"\"\n",
    "rr_crm['class_desc']=\"\"\n",
    "rr_crm.name1 = rr_crm.name1.apply(lambda x: titlecase(x))\n",
    "rr_crm.name2 = rr_crm.name2.apply(lambda x: titlecase(x))\n",
    "rr_crm.SAM_BLDNAME = rr_crm.SAM_BLDNAME.apply(lambda x: titlecase(x))\n",
    "rr_crm.SAM_STNAME = rr_crm.SAM_STNAME.apply(lambda x: titlecase(x))\n",
    "rr_crm.SAM_STSUBT = rr_crm.SAM_STSUBT.apply(lambda x: titlecase(x))\n",
    "rr_crm.sam_estate = rr_crm.sam_estate.apply(lambda x: titlecase(x))\n",
    "rr_crm.City = rr_crm.City.apply(lambda x: titlecase(x))\n",
    "rr_crm.Province = rr_crm.Province.apply(lambda x: titlecase(x))"
   ]
  },
  {
   "cell_type": "code",
   "execution_count": 114,
   "metadata": {
    "collapsed": false
   },
   "outputs": [],
   "source": [
    "import numpy as np\n",
    "def or_call(crm):\n",
    "    index=crm.duplicated(['name1','name2','City','Province','SAM_BLDNAME','SAM_STNAME'])\n",
    "    skip=False\n",
    "    for i in xrange(len(index)):\n",
    "        if index.ix[i] == True:\n",
    "            line=crm.ix[i]\n",
    "            prev_line=crm.ix[i-1]\n",
    "            try:\n",
    "                next_line=crm.ix[i+1]\n",
    "            except:\n",
    "                pass\n",
    "            line['SAM_BLDNAME']=''\n",
    "            line['SAM_STNMFR']=''\n",
    "            line['SAM_STNAME']=''\n",
    "            line['SAM_STSUBT']=''\n",
    "            line['sam_estate']=''\n",
    "            line['Province']=''\n",
    "            line['class_code']=''\n",
    "            line['class_desc']=''\n",
    "            #line['name1']=''\n",
    "            #line['name2']=''\n",
    "            if skip == False:\n",
    "                prev_line['Phone']=str(prev_line.Phone)+'/'+str(line.Phone)\n",
    "                line['Phone']=''\n",
    "\n",
    "                if index.ix[i-1] == False and index.ix[i+1]==True:\n",
    "                    next_line['City']='Or Call:'\n",
    "                try:\n",
    "                    if index.ix[i+1] == True:\n",
    "                        skip =True\n",
    "                    \n",
    "                except:\n",
    "                    pass\n",
    "            else:\n",
    "                skip = False\n",
    "    crm['Phone'].replace('', np.nan, inplace=True)\n",
    "    return  crm[crm.Phone.notnull()]\n",
    "\n",
    "    "
   ]
  },
  {
   "cell_type": "code",
   "execution_count": 115,
   "metadata": {
    "collapsed": false
   },
   "outputs": [
    {
     "ename": "IOError",
     "evalue": "[Errno 2] No such file or directory: 'areacodes'",
     "output_type": "error",
     "traceback": [
      "\u001b[0;31m---------------------------------------------------------------------------\u001b[0m",
      "\u001b[0;31mIOError\u001b[0m                                   Traceback (most recent call last)",
      "\u001b[0;32m<ipython-input-115-7bafda4d158d>\u001b[0m in \u001b[0;36m<module>\u001b[0;34m()\u001b[0m\n\u001b[1;32m      1\u001b[0m \u001b[0;32mimport\u001b[0m \u001b[0mcsv\u001b[0m\u001b[0;34m\u001b[0m\u001b[0m\n\u001b[0;32m----> 2\u001b[0;31m \u001b[0;32mwith\u001b[0m \u001b[0mopen\u001b[0m\u001b[0;34m(\u001b[0m\u001b[0;34m'areacodes'\u001b[0m\u001b[0;34m)\u001b[0m \u001b[0;32mas\u001b[0m \u001b[0mcsvfile\u001b[0m\u001b[0;34m:\u001b[0m\u001b[0;34m\u001b[0m\u001b[0m\n\u001b[0m\u001b[1;32m      3\u001b[0m     \u001b[0mreader\u001b[0m\u001b[0;34m=\u001b[0m \u001b[0mcsv\u001b[0m\u001b[0;34m.\u001b[0m\u001b[0mreader\u001b[0m\u001b[0;34m(\u001b[0m\u001b[0mcsvfile\u001b[0m\u001b[0;34m)\u001b[0m\u001b[0;34m\u001b[0m\u001b[0m\n\u001b[1;32m      4\u001b[0m     \u001b[0mcodes\u001b[0m \u001b[0;34m=\u001b[0m \u001b[0mdict\u001b[0m\u001b[0;34m(\u001b[0m\u001b[0;34m(\u001b[0m\u001b[0mrows\u001b[0m\u001b[0;34m[\u001b[0m\u001b[0;36m0\u001b[0m\u001b[0;34m]\u001b[0m\u001b[0;34m,\u001b[0m\u001b[0mrows\u001b[0m\u001b[0;34m[\u001b[0m\u001b[0;36m1\u001b[0m\u001b[0;34m]\u001b[0m\u001b[0;34m)\u001b[0m \u001b[0;32mfor\u001b[0m \u001b[0mrows\u001b[0m \u001b[0;32min\u001b[0m \u001b[0mreader\u001b[0m\u001b[0;34m)\u001b[0m\u001b[0;34m\u001b[0m\u001b[0m\n",
      "\u001b[0;31mIOError\u001b[0m: [Errno 2] No such file or directory: 'areacodes'"
     ]
    }
   ],
   "source": [
    "import csv \n",
    "with open('areacodes') as csvfile:\n",
    "    reader= csv.reader(csvfile)\n",
    "    codes = dict((rows[0],rows[1]) for rows in reader)\n"
   ]
  },
  {
   "cell_type": "code",
   "execution_count": 116,
   "metadata": {
    "collapsed": false
   },
   "outputs": [
    {
     "data": {
      "text/plain": [
       "'44'"
      ]
     },
     "execution_count": 116,
     "metadata": {},
     "output_type": "execute_result"
    }
   ],
   "source": [
    "codes.get('bulacan')"
   ]
  },
  {
   "cell_type": "code",
   "execution_count": null,
   "metadata": {
    "collapsed": false
   },
   "outputs": [],
   "source": []
  },
  {
   "cell_type": "code",
   "execution_count": 117,
   "metadata": {
    "collapsed": false
   },
   "outputs": [
    {
     "data": {
      "text/plain": [
       "0     False\n",
       "1     False\n",
       "2     False\n",
       "3      True\n",
       "4     False\n",
       "5     False\n",
       "6      True\n",
       "7      True\n",
       "8     False\n",
       "9     False\n",
       "10    False\n",
       "11    False\n",
       "12    False\n",
       "13     True\n",
       "14     True\n",
       "dtype: bool"
      ]
     },
     "execution_count": 117,
     "metadata": {},
     "output_type": "execute_result"
    }
   ],
   "source": [
    "rr_crm.duplicated('name1')"
   ]
  },
  {
   "cell_type": "code",
   "execution_count": 126,
   "metadata": {
    "collapsed": false
   },
   "outputs": [
    {
     "data": {
      "text/plain": [
       "'Obando'"
      ]
     },
     "execution_count": 126,
     "metadata": {},
     "output_type": "execute_result"
    }
   ],
   "source": [
    "or_call(rr_crm).City[0]"
   ]
  },
  {
   "cell_type": "code",
   "execution_count": 119,
   "metadata": {
    "collapsed": false
   },
   "outputs": [
    {
     "ename": "IOError",
     "evalue": "[Errno 2] No such file or directory: 'small_words'",
     "output_type": "error",
     "traceback": [
      "\u001b[0;31m---------------------------------------------------------------------------\u001b[0m",
      "\u001b[0;31mIOError\u001b[0m                                   Traceback (most recent call last)",
      "\u001b[0;32m<ipython-input-119-bd04f546e239>\u001b[0m in \u001b[0;36m<module>\u001b[0;34m()\u001b[0m\n\u001b[0;32m----> 1\u001b[0;31m \u001b[0mstr\u001b[0m\u001b[0;34m(\u001b[0m\u001b[0mopen\u001b[0m\u001b[0;34m(\u001b[0m\u001b[0;34m'small_words'\u001b[0m\u001b[0;34m)\u001b[0m\u001b[0;34m.\u001b[0m\u001b[0mread\u001b[0m\u001b[0;34m(\u001b[0m\u001b[0;34m)\u001b[0m\u001b[0;34m)\u001b[0m\u001b[0;34m\u001b[0m\u001b[0m\n\u001b[0m",
      "\u001b[0;31mIOError\u001b[0m: [Errno 2] No such file or directory: 'small_words'"
     ]
    }
   ],
   "source": [
    "str(open('small_words').read())"
   ]
  },
  {
   "cell_type": "code",
   "execution_count": 120,
   "metadata": {
    "collapsed": false
   },
   "outputs": [
    {
     "ename": "IOError",
     "evalue": "[Errno 2] No such file or directory: 'small_words'",
     "output_type": "error",
     "traceback": [
      "\u001b[0;31m---------------------------------------------------------------------------\u001b[0m",
      "\u001b[0;31mIOError\u001b[0m                                   Traceback (most recent call last)",
      "\u001b[0;32m<ipython-input-120-0b62cc8e2088>\u001b[0m in \u001b[0;36m<module>\u001b[0;34m()\u001b[0m\n\u001b[0;32m----> 1\u001b[0;31m \u001b[0mopen\u001b[0m\u001b[0;34m(\u001b[0m\u001b[0;34m'small_words'\u001b[0m\u001b[0;34m)\u001b[0m\u001b[0;34m.\u001b[0m\u001b[0mread\u001b[0m\u001b[0;34m(\u001b[0m\u001b[0;34m)\u001b[0m\u001b[0;34m.\u001b[0m\u001b[0mrstrip\u001b[0m\u001b[0;34m(\u001b[0m\u001b[0;34m'\\n'\u001b[0m\u001b[0;34m)\u001b[0m\u001b[0;34m\u001b[0m\u001b[0m\n\u001b[0m",
      "\u001b[0;31mIOError\u001b[0m: [Errno 2] No such file or directory: 'small_words'"
     ]
    }
   ],
   "source": [
    "open('small_words').read().rstrip('\\n')\n"
   ]
  },
  {
   "cell_type": "code",
   "execution_count": 121,
   "metadata": {
    "collapsed": false
   },
   "outputs": [],
   "source": [
    "import functions.interface_functions"
   ]
  },
  {
   "cell_type": "code",
   "execution_count": 122,
   "metadata": {
    "collapsed": false
   },
   "outputs": [],
   "source": [
    "import glob\n",
    "import os\n",
    "newest = min(glob.iglob('database_backups/*.hdf5'), key=os.path.getctime)\n"
   ]
  },
  {
   "cell_type": "code",
   "execution_count": 62,
   "metadata": {
    "collapsed": false
   },
   "outputs": [
    {
     "data": {
      "text/plain": [
       "'database_backups/database-2016-07-21-02-02-20.hdf5'"
      ]
     },
     "execution_count": 62,
     "metadata": {},
     "output_type": "execute_result"
    }
   ],
   "source": [
    "newest"
   ]
  },
  {
   "cell_type": "code",
   "execution_count": 63,
   "metadata": {
    "collapsed": false
   },
   "outputs": [
    {
     "data": {
      "text/plain": [
       "0                                 OBANDO\n",
       "1                        MEYCAUAYAN CITY\n",
       "2                                 OBANDO\n",
       "3                                 OBANDO\n",
       "4                        MEYCAUAYAN CITY\n",
       "5                                 OBANDO\n",
       "6                                 OBANDO\n",
       "7                                 OBANDO\n",
       "8                                 OBANDO\n",
       "9                                 OBANDO\n",
       "10                                OBANDO\n",
       "11                                OBANDO\n",
       "12                                OBANDO\n",
       "13                                OBANDO\n",
       "14                                OBANDO\n",
       "Name: distribution_code, dtype: object"
      ]
     },
     "execution_count": 63,
     "metadata": {},
     "output_type": "execute_result"
    }
   ],
   "source": [
    "rr.distribution_code.str.split('    ',1).str.get(1)"
   ]
  },
  {
   "cell_type": "code",
   "execution_count": 66,
   "metadata": {
    "collapsed": false
   },
   "outputs": [],
   "source": [
    "index=rr_crm.duplicated(['name1','name2','City','Province','SAM_BLDNAME','SAM_STNAME'])\n"
   ]
  },
  {
   "cell_type": "code",
   "execution_count": 69,
   "metadata": {
    "collapsed": false
   },
   "outputs": [
    {
     "data": {
      "text/plain": [
       "[0, 1, 2, 3, 4, 5, 6, 7, 8, 9, 10, 11, 12, 13, 14]"
      ]
     },
     "execution_count": 69,
     "metadata": {},
     "output_type": "execute_result"
    }
   ],
   "source": [
    "range(len(index))"
   ]
  },
  {
   "cell_type": "code",
   "execution_count": 74,
   "metadata": {
    "collapsed": false
   },
   "outputs": [
    {
     "data": {
      "text/plain": [
       "False"
      ]
     },
     "execution_count": 74,
     "metadata": {},
     "output_type": "execute_result"
    }
   ],
   "source": [
    "index[1]"
   ]
  },
  {
   "cell_type": "code",
   "execution_count": 72,
   "metadata": {
    "collapsed": true
   },
   "outputs": [],
   "source": [
    "index=rr_crm.duplicated(['name1','name2','City','Province','SAM_BLDNAME','SAM_STNAME'])\n"
   ]
  },
  {
   "cell_type": "code",
   "execution_count": 80,
   "metadata": {
    "collapsed": false
   },
   "outputs": [
    {
     "data": {
      "text/plain": [
       "['dfd', 'f ', 'df', 'df', '        ', 'df', 'd']"
      ]
     },
     "execution_count": 80,
     "metadata": {},
     "output_type": "execute_result"
    }
   ],
   "source": [
    "'dfdsf sdfsdfs        sdfsd'.split('s')"
   ]
  },
  {
   "cell_type": "code",
   "execution_count": null,
   "metadata": {
    "collapsed": true
   },
   "outputs": [],
   "source": []
  }
 ],
 "metadata": {
  "kernelspec": {
   "display_name": "Python 2",
   "language": "python",
   "name": "python2"
  },
  "language_info": {
   "codemirror_mode": {
    "name": "ipython",
    "version": 2
   },
   "file_extension": ".py",
   "mimetype": "text/x-python",
   "name": "python",
   "nbconvert_exporter": "python",
   "pygments_lexer": "ipython2",
   "version": "2.7.11"
  }
 },
 "nbformat": 4,
 "nbformat_minor": 0
}
